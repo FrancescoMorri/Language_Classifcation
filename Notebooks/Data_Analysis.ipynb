{
  "nbformat": 4,
  "nbformat_minor": 0,
  "metadata": {
    "colab": {
      "name": "Data_Analysis.ipynb",
      "provenance": [],
      "mount_file_id": "1YO00PUHkHNYct4I_12IODQ1fcJz1vX4E",
      "authorship_tag": "ABX9TyOBsEMWrUOX2VFLRAgfkwjG",
      "include_colab_link": true
    },
    "kernelspec": {
      "name": "python3",
      "display_name": "Python 3"
    }
  },
  "cells": [
    {
      "cell_type": "markdown",
      "metadata": {
        "id": "view-in-github",
        "colab_type": "text"
      },
      "source": [
        "<a href=\"https://colab.research.google.com/github/FrancescoMorri/Language_Classification/blob/main/Notebooks/Data_Analysis.ipynb\" target=\"_parent\"><img src=\"https://colab.research.google.com/assets/colab-badge.svg\" alt=\"Open In Colab\"/></a>"
      ]
    },
    {
      "cell_type": "code",
      "metadata": {
        "id": "CScXF9k87fYH"
      },
      "source": [
        "import seaborn as sns\r\n",
        "import matplotlib.pyplot as plt\r\n",
        "import pandas as pd\r\n",
        "import torch\r\n",
        "import numpy as np\r\n",
        "\r\n",
        "sns.set()\r\n",
        "\r\n",
        "PATH = \"/content/drive/MyDrive/language/\""
      ],
      "execution_count": 2,
      "outputs": []
    },
    {
      "cell_type": "code",
      "metadata": {
        "id": "WxN3nWEP-THV"
      },
      "source": [
        "words = pd.read_csv(PATH+\"words_all_unique.csv\", usecols=['spelling', 'lexicality'])"
      ],
      "execution_count": null,
      "outputs": []
    },
    {
      "cell_type": "markdown",
      "metadata": {
        "id": "uLqxUCnZs1pH"
      },
      "source": [
        "# Loss"
      ]
    },
    {
      "cell_type": "code",
      "metadata": {
        "id": "SHa9_IzYvA9b",
        "colab": {
          "base_uri": "https://localhost:8080/",
          "height": 285
        },
        "outputId": "089f537a-fbb3-4d09-c585-08fa852b8a81"
      },
      "source": [
        "loss = np.loadtxt(PATH+\"graphs/loss_data_5char_MSE.csv\")\r\n",
        "plt.plot(loss[:,0], loss[:,1], label=\"Loss\")\r\n",
        "plt.xlabel(\"epochs\")\r\n",
        "plt.ylabel(\"loss\")\r\n",
        "#plt.yscale(\"log\")\r\n",
        "plt.show()"
      ],
      "execution_count": 18,
      "outputs": [
        {
          "output_type": "display_data",
          "data": {
            "image/png": "[encoded data removed]",
            "text/plain": [
              "<Figure size 432x288 with 1 Axes>"
            ]
          },
          "metadata": {
            "tags": []
          }
        }
      ]
    },
    {
      "cell_type": "code",
      "metadata": {
        "id": "Ps3rjHPEra1b"
      },
      "source": [
        ""
      ],
      "execution_count": null,
      "outputs": []
    },
    {
      "cell_type": "markdown",
      "metadata": {
        "id": "mXvvsGfDs4yk"
      },
      "source": [
        "# Model Accuracy and Word Analysis"
      ]
    },
    {
      "cell_type": "markdown",
      "metadata": {
        "id": "8Vl_LX9qtd_R"
      },
      "source": [
        "## Loading the model"
      ]
    },
    {
      "cell_type": "code",
      "metadata": {
        "id": "duPezU3Ls887"
      },
      "source": [
        "import torch.nn as nn\r\n",
        "\r\n",
        "class Words_Net(nn.Module):\r\n",
        "    def __init__(self):\r\n",
        "        super().__init__()\r\n",
        "        self.linear1 = nn.Linear(in_features=130, out_features=64)\r\n",
        "        self.linear2 = nn.Linear(in_features=64, out_features=32)\r\n",
        "        self.linear3 = nn.Linear(in_features=32, out_features=1)\r\n",
        "        #self.linear4 = nn.Linear(in_features=50, out_features=1)\r\n",
        "\r\n",
        "        self.act = nn.ReLU()\r\n",
        "\r\n",
        "    def forward(self, x):\r\n",
        "        out = self.linear1(x)\r\n",
        "        out = self.act(out)\r\n",
        "        out = self.linear2(out)\r\n",
        "        out = self.act(out)\r\n",
        "        out = self.linear3(out)\r\n",
        "        #out = self.act(out)\r\n",
        "        #out = self.linear4(out)\r\n",
        "\r\n",
        "        return out"
      ],
      "execution_count": 19,
      "outputs": []
    },
    {
      "cell_type": "code",
      "metadata": {
        "id": "w0bODswttZhh"
      },
      "source": [
        "net = Words_Net()\r\n",
        "net.load_state_dict(torch.load(PATH+\"/net/feed_forward_5char_MSE\"))"
      ],
      "execution_count": null,
      "outputs": []
    }
  ]
}