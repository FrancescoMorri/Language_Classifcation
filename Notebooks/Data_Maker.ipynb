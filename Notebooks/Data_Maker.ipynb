{
  "nbformat": 4,
  "nbformat_minor": 0,
  "metadata": {
    "colab": {
      "name": "Data_Maker.ipynb",
      "provenance": [],
      "collapsed_sections": [
        "4i5bqIVbF0iX"
      ],
      "mount_file_id": "1SZ7RHMet6RZMLgdlHd0IeuLFImThMIMN",
      "authorship_tag": "ABX9TyMlDZcAl95j36y+D1uE4g/R",
      "include_colab_link": true
    },
    "kernelspec": {
      "name": "python3",
      "display_name": "Python 3"
    }
  },
  "cells": [
    {
      "cell_type": "markdown",
      "metadata": {
        "id": "view-in-github",
        "colab_type": "text"
      },
      "source": [
        "<a href=\"https://colab.research.google.com/github/FrancescoMorri/Language_Classifcation/blob/main/Notebooks/Data_Maker.ipynb\" target=\"_parent\"><img src=\"https://colab.research.google.com/assets/colab-badge.svg\" alt=\"Open In Colab\"/></a>"
      ]
    },
    {
      "cell_type": "code",
      "metadata": {
        "id": "jd9hOOwJmr6g"
      },
      "source": [
        "import pandas as pd\r\n",
        "import time\r\n",
        "PATH = \"/content/drive/MyDrive/language/\""
      ],
      "execution_count": 1,
      "outputs": []
    },
    {
      "cell_type": "markdown",
      "metadata": {
        "id": "4i5bqIVbF0iX"
      },
      "source": [
        "# Loading Data\r\n",
        "This is run only the first time to create smaller files to work with, since the main file is 4 Gb"
      ]
    },
    {
      "cell_type": "code",
      "metadata": {
        "colab": {
          "base_uri": "https://localhost:8080/"
        },
        "id": "JKX4vmk_narB",
        "outputId": "c066f2d6-503a-4781-f5dd-86db2d21144b"
      },
      "source": [
        "#chunksize=200000\r\n",
        "#words = pd.DataFrame(columns=['spelling', 'lexicality'])\r\n",
        "#start = time.time()\r\n",
        "#for chunk in pd.read_csv(\"/content/drive/MyDrive/language/lexical-decision.csv\", sep=\"\\t\", usecols=['spelling', 'lexicality'], chunksize=chunksize):\r\n",
        "#    chunk = chunk.drop_duplicates()\r\n",
        "#    words = pd.concat([words, chunk], ignore_index=True)\r\n",
        "#    words = words.drop_duplicates()\r\n",
        "#end = time.time()\r\n",
        "#print(\"Total Time:%.d\"%(end-start))"
      ],
      "execution_count": null,
      "outputs": [
        {
          "output_type": "stream",
          "text": [
            "Total Time:249\n"
          ],
          "name": "stdout"
        }
      ]
    },
    {
      "cell_type": "code",
      "metadata": {
        "id": "uonUJ76znf8Y"
      },
      "source": [
        "#words.to_csv(\"/content/drive/MyDrive/language/words.csv\")"
      ],
      "execution_count": null,
      "outputs": []
    },
    {
      "cell_type": "markdown",
      "metadata": {
        "id": "SMZRoptoGFIm"
      },
      "source": [
        "# Making the DataSet\r\n",
        "We can now create and save the dataset, using PyTorch DataLoader class"
      ]
    },
    {
      "cell_type": "code",
      "metadata": {
        "id": "kXfybmIbn2Zl"
      },
      "source": [
        "words = pd.read_csv(PATH+\"words_all_unique.csv\", usecols=['spelling', 'lexicality'])"
      ],
      "execution_count": 2,
      "outputs": []
    },
    {
      "cell_type": "markdown",
      "metadata": {
        "id": "1dvVZERcHWN5"
      },
      "source": [
        "## Basic Data Anlaysis"
      ]
    },
    {
      "cell_type": "code",
      "metadata": {
        "id": "sHJ8mm9Q0YaU"
      },
      "source": [
        "import seaborn as sns\r\n",
        "import matplotlib.pyplot as plt\r\n",
        "sns.set()"
      ],
      "execution_count": 9,
      "outputs": []
    },
    {
      "cell_type": "code",
      "metadata": {
        "colab": {
          "base_uri": "https://localhost:8080/",
          "height": 284
        },
        "id": "_NAhTZgEqKKc",
        "outputId": "ea7a8ab1-e3b7-4f6c-f016-e2e0ffdf0b3f"
      },
      "source": [
        "divi = words['lexicality'].value_counts()\r\n",
        "plt.hist(x=words['lexicality'])\r\n",
        "plt.title(\"Words and Nonwords distribution\")\r\n",
        "#plt.savefig(PATH+\"graphs/W_N_ratio.png\", bbox_inches='tight')\r\n",
        "plt.show()"
      ],
      "execution_count": 10,
      "outputs": [
        {
          "output_type": "display_data",
          "data": {
            "image/png": "[encoded data removed]",
            "text/plain": [
              "<Figure size 432x288 with 1 Axes>"
            ]
          },
          "metadata": {
            "tags": []
          }
        }
      ]
    },
    {
      "cell_type": "code",
      "metadata": {
        "id": "7yQVVE0QqZBI"
      },
      "source": [
        "real_words = words[words['lexicality']=='W']['spelling']\r\n",
        "non_words = words[words['lexicality']=='N']['spelling']"
      ],
      "execution_count": 11,
      "outputs": []
    },
    {
      "cell_type": "code",
      "metadata": {
        "id": "QXNdLtDeE6sO",
        "colab": {
          "base_uri": "https://localhost:8080/"
        },
        "outputId": "d6829906-4ed4-4a25-9f9e-c88542ffbaa9"
      },
      "source": [
        "real_length = []\r\n",
        "for a in real_words:\r\n",
        "    if (type(a) == type(\"sr\")):\r\n",
        "        real_length.append(len(a))\r\n",
        "    else:\r\n",
        "        print(a)\r\n",
        "\r\n",
        "non_length = []\r\n",
        "for a in non_words:\r\n",
        "    if (type(a) == type(\"sr\")):\r\n",
        "        non_length.append(len(a))\r\n",
        "    else:\r\n",
        "        print(a)"
      ],
      "execution_count": 12,
      "outputs": [
        {
          "output_type": "stream",
          "text": [
            "nan\n"
          ],
          "name": "stdout"
        }
      ]
    },
    {
      "cell_type": "code",
      "metadata": {
        "colab": {
          "base_uri": "https://localhost:8080/",
          "height": 501
        },
        "id": "wkA3wx3YDYTN",
        "outputId": "4d6a4325-9272-42f2-b996-38f7bdb86e19"
      },
      "source": [
        "fig, ax = plt.subplots(2,1, figsize=(5,8))\r\n",
        "props = dict(boxstyle='round', facecolor='wheat', alpha=0.5)\r\n",
        "\r\n",
        "ax[0].hist(real_length, bins=10)\r\n",
        "ax[0].set_title(\"Real words length distribution\")\r\n",
        "ax[0].text(0.5, 0.88, \"Max Length=%.d\"%(max(real_length)), transform=ax[0].transAxes, fontsize=15,\r\n",
        "        verticalalignment='top', bbox=props)\r\n",
        "\r\n",
        "\r\n",
        "\r\n",
        "ax[1].hist(non_length, bins=10)\r\n",
        "ax[1].set_title(\"Non-words length distribution\")\r\n",
        "ax[1].text(0.5, 0.88, \"Max Length=%.d\"%(max(non_length)), transform=ax[1].transAxes, fontsize=15,\r\n",
        "        verticalalignment='top', bbox=props)\r\n",
        "\r\n",
        "#fig.savefig(PATH+\"graphs/length_distr.png\", bbox_inches='tight')\r\n",
        "plt.show()"
      ],
      "execution_count": 13,
      "outputs": [
        {
          "output_type": "display_data",
          "data": {
            "image/png": "[encoded data removed]",
            "text/plain": [
              "<Figure size 360x576 with 2 Axes>"
            ]
          },
          "metadata": {
            "tags": []
          }
        }
      ]
    },
    {
      "cell_type": "code",
      "metadata": {
        "id": "AKLfMnMfDoX5"
      },
      "source": [
        "import random\r\n",
        "non_words_selected = random.sample(list(non_words), len(real_words))"
      ],
      "execution_count": 14,
      "outputs": []
    },
    {
      "cell_type": "code",
      "metadata": {
        "colab": {
          "base_uri": "https://localhost:8080/",
          "height": 284
        },
        "id": "ssB5tcsNPIx1",
        "outputId": "27e17bfd-6bbf-4efc-cb07-b08af848dd5c"
      },
      "source": [
        "non_length_selected = []\r\n",
        "for a in non_words_selected:\r\n",
        "    if (type(a) == type(\"sr\")):\r\n",
        "        non_length_selected.append(len(a))\r\n",
        "    else:\r\n",
        "        print(a)\r\n",
        "\r\n",
        "fig, ax = plt.subplots()\r\n",
        "ax.hist(non_length_selected, bins=10)\r\n",
        "ax.set_title(\"Non-words length distribution\")\r\n",
        "ax.text(0.5, 0.88, \"Max Length=%.d\"%(max(non_length_selected)), transform=ax.transAxes, fontsize=15,\r\n",
        "        verticalalignment='top', bbox=props)\r\n",
        "\r\n",
        "#fig.savefig(PATH+\"graphs/nword_after_reduction_distr.png\", bbox_inches='tight')\r\n",
        "plt.show()"
      ],
      "execution_count": 15,
      "outputs": [
        {
          "output_type": "display_data",
          "data": {
            "image/png": "[encoded data removed]",
            "text/plain": [
              "<Figure size 432x288 with 1 Axes>"
            ]
          },
          "metadata": {
            "tags": []
          }
        }
      ]
    },
    {
      "cell_type": "markdown",
      "metadata": {
        "id": "EINNDDkfKYnw"
      },
      "source": [
        "## Making the actual DataSet class"
      ]
    },
    {
      "cell_type": "code",
      "metadata": {
        "id": "T_DIX2wvKdTS"
      },
      "source": [
        "from torch.utils.data import Dataset\r\n",
        "import torch"
      ],
      "execution_count": 16,
      "outputs": []
    },
    {
      "cell_type": "markdown",
      "metadata": {
        "id": "sNDUU61kRoA7"
      },
      "source": [
        "<p> In order to make the dataset we need to encode the words in some way. We will use a simple method: simply assigning a binary vector to each letter, then putting together all the vector that make a word, eventually adding 0s at the end if the word is shorter that the longest word in the dataset</p>"
      ]
    },
    {
      "cell_type": "code",
      "metadata": {
        "id": "P2YM_SRkOcWo"
      },
      "source": [
        "def word_to_vec(word, max_length):\r\n",
        "    n = len(word)\r\n",
        "    vec = ''\r\n",
        "    for i in range(n):\r\n",
        "        cur_char = word[i]\r\n",
        "        idx = ord(cur_char) - 97\r\n",
        "        tmp = (str(0)*idx) + str(1) + (str(0)*(25-idx))\r\n",
        "        vec = vec + tmp\r\n",
        "    if n < max_length:\r\n",
        "        vec += str(0)*26*(max_length - n)\r\n",
        "    output = []\r\n",
        "    for v in vec:\r\n",
        "        output.append(float(v))\r\n",
        "    return output"
      ],
      "execution_count": 17,
      "outputs": []
    },
    {
      "cell_type": "markdown",
      "metadata": {
        "id": "10xBRNTBSDMu"
      },
      "source": [
        "As it should be the two words *hello* and *hallo* have only one difference."
      ]
    },
    {
      "cell_type": "code",
      "metadata": {
        "colab": {
          "base_uri": "https://localhost:8080/"
        },
        "id": "efR-ZY2cRTVZ",
        "outputId": "1e5f66e4-c75a-444b-d128-fb7fc6cca93c"
      },
      "source": [
        "print(word_to_vec('hello', 5))\r\n",
        "print(word_to_vec('hallo', 5))"
      ],
      "execution_count": 18,
      "outputs": [
        {
          "output_type": "stream",
          "text": [
            "[0.0, 0.0, 0.0, 0.0, 0.0, 0.0, 0.0, 1.0, 0.0, 0.0, 0.0, 0.0, 0.0, 0.0, 0.0, 0.0, 0.0, 0.0, 0.0, 0.0, 0.0, 0.0, 0.0, 0.0, 0.0, 0.0, 0.0, 0.0, 0.0, 0.0, 1.0, 0.0, 0.0, 0.0, 0.0, 0.0, 0.0, 0.0, 0.0, 0.0, 0.0, 0.0, 0.0, 0.0, 0.0, 0.0, 0.0, 0.0, 0.0, 0.0, 0.0, 0.0, 0.0, 0.0, 0.0, 0.0, 0.0, 0.0, 0.0, 0.0, 0.0, 0.0, 0.0, 1.0, 0.0, 0.0, 0.0, 0.0, 0.0, 0.0, 0.0, 0.0, 0.0, 0.0, 0.0, 0.0, 0.0, 0.0, 0.0, 0.0, 0.0, 0.0, 0.0, 0.0, 0.0, 0.0, 0.0, 0.0, 0.0, 1.0, 0.0, 0.0, 0.0, 0.0, 0.0, 0.0, 0.0, 0.0, 0.0, 0.0, 0.0, 0.0, 0.0, 0.0, 0.0, 0.0, 0.0, 0.0, 0.0, 0.0, 0.0, 0.0, 0.0, 0.0, 0.0, 0.0, 0.0, 0.0, 1.0, 0.0, 0.0, 0.0, 0.0, 0.0, 0.0, 0.0, 0.0, 0.0, 0.0, 0.0]\n",
            "[0.0, 0.0, 0.0, 0.0, 0.0, 0.0, 0.0, 1.0, 0.0, 0.0, 0.0, 0.0, 0.0, 0.0, 0.0, 0.0, 0.0, 0.0, 0.0, 0.0, 0.0, 0.0, 0.0, 0.0, 0.0, 0.0, 1.0, 0.0, 0.0, 0.0, 0.0, 0.0, 0.0, 0.0, 0.0, 0.0, 0.0, 0.0, 0.0, 0.0, 0.0, 0.0, 0.0, 0.0, 0.0, 0.0, 0.0, 0.0, 0.0, 0.0, 0.0, 0.0, 0.0, 0.0, 0.0, 0.0, 0.0, 0.0, 0.0, 0.0, 0.0, 0.0, 0.0, 1.0, 0.0, 0.0, 0.0, 0.0, 0.0, 0.0, 0.0, 0.0, 0.0, 0.0, 0.0, 0.0, 0.0, 0.0, 0.0, 0.0, 0.0, 0.0, 0.0, 0.0, 0.0, 0.0, 0.0, 0.0, 0.0, 1.0, 0.0, 0.0, 0.0, 0.0, 0.0, 0.0, 0.0, 0.0, 0.0, 0.0, 0.0, 0.0, 0.0, 0.0, 0.0, 0.0, 0.0, 0.0, 0.0, 0.0, 0.0, 0.0, 0.0, 0.0, 0.0, 0.0, 0.0, 0.0, 1.0, 0.0, 0.0, 0.0, 0.0, 0.0, 0.0, 0.0, 0.0, 0.0, 0.0, 0.0]\n"
          ],
          "name": "stdout"
        }
      ]
    },
    {
      "cell_type": "markdown",
      "metadata": {
        "id": "qMhbpTvhTP4g"
      },
      "source": [
        "Now we need a basic function to make the labels vector."
      ]
    },
    {
      "cell_type": "code",
      "metadata": {
        "id": "M2k1TUM7TPFK"
      },
      "source": [
        "def label_maker(lexicality):\r\n",
        "    if lexicality == 'W':\r\n",
        "        return [1,0]\r\n",
        "    elif lexicality == 'N':\r\n",
        "        return [0,1]"
      ],
      "execution_count": 19,
      "outputs": []
    },
    {
      "cell_type": "code",
      "metadata": {
        "colab": {
          "base_uri": "https://localhost:8080/"
        },
        "id": "GMudyq-WTyzP",
        "outputId": "3282323a-ecd6-418d-9899-6100e8c9cf0b"
      },
      "source": [
        "label_maker('W')"
      ],
      "execution_count": 20,
      "outputs": [
        {
          "output_type": "execute_result",
          "data": {
            "text/plain": [
              "[1, 0]"
            ]
          },
          "metadata": {
            "tags": []
          },
          "execution_count": 20
        }
      ]
    },
    {
      "cell_type": "code",
      "metadata": {
        "colab": {
          "base_uri": "https://localhost:8080/"
        },
        "id": "k1Ete7kuT2nV",
        "outputId": "211129ae-6b30-43dd-8fa6-ddb4aba94db0"
      },
      "source": [
        "print(word_to_vec(non_words_selected[0],len(non_words_selected[0])), '\\n', non_words_selected[0])\r\n",
        "print(word_to_vec(real_words[0],len(real_words[0])), '\\n', real_words[0])"
      ],
      "execution_count": 21,
      "outputs": [
        {
          "output_type": "stream",
          "text": [
            "[0.0, 0.0, 0.0, 0.0, 0.0, 0.0, 0.0, 0.0, 0.0, 0.0, 0.0, 0.0, 0.0, 0.0, 0.0, 0.0, 0.0, 0.0, 0.0, 1.0, 0.0, 0.0, 0.0, 0.0, 0.0, 0.0, 0.0, 0.0, 0.0, 0.0, 0.0, 0.0, 0.0, 0.0, 0.0, 0.0, 0.0, 0.0, 0.0, 0.0, 1.0, 0.0, 0.0, 0.0, 0.0, 0.0, 0.0, 0.0, 0.0, 0.0, 0.0, 0.0, 0.0, 0.0, 0.0, 0.0, 0.0, 0.0, 0.0, 0.0, 0.0, 0.0, 0.0, 0.0, 0.0, 0.0, 0.0, 0.0, 0.0, 0.0, 0.0, 0.0, 1.0, 0.0, 0.0, 0.0, 0.0, 0.0, 0.0, 0.0, 0.0, 0.0, 0.0, 0.0, 0.0, 0.0, 0.0, 0.0, 0.0, 0.0, 0.0, 1.0, 0.0, 0.0, 0.0, 0.0, 0.0, 0.0, 0.0, 0.0, 0.0, 0.0, 0.0, 0.0, 0.0, 0.0, 1.0, 0.0, 0.0, 0.0, 0.0, 0.0, 0.0, 0.0, 0.0, 0.0, 0.0, 0.0, 0.0, 0.0, 0.0, 0.0, 0.0, 0.0, 0.0, 0.0, 0.0, 0.0, 0.0, 0.0, 0.0, 0.0, 0.0, 0.0, 0.0, 0.0, 0.0, 0.0, 0.0, 0.0, 0.0, 0.0, 0.0, 0.0, 0.0, 0.0, 0.0, 0.0, 0.0, 1.0, 0.0, 0.0, 0.0, 0.0, 0.0, 0.0, 1.0, 0.0, 0.0, 0.0, 0.0, 0.0, 0.0, 0.0, 0.0, 0.0, 0.0, 0.0, 0.0, 0.0, 0.0, 0.0, 0.0, 0.0, 0.0, 0.0, 0.0, 0.0, 0.0, 0.0, 0.0, 0.0, 0.0, 0.0, 0.0, 0.0, 0.0, 0.0, 0.0, 0.0, 0.0, 0.0, 0.0, 0.0, 0.0, 0.0, 0.0, 0.0, 0.0, 0.0, 1.0, 0.0, 0.0, 0.0, 0.0, 0.0, 0.0, 0.0, 0.0, 0.0, 0.0, 0.0, 0.0, 0.0, 0.0, 0.0, 0.0, 0.0, 0.0, 0.0, 0.0, 0.0, 0.0, 0.0, 0.0, 0.0, 0.0, 1.0, 0.0, 0.0, 0.0, 0.0, 0.0, 0.0, 0.0, 0.0, 0.0, 0.0, 1.0, 0.0, 0.0, 0.0, 0.0, 0.0, 0.0, 0.0, 0.0, 0.0, 0.0, 0.0, 0.0, 0.0, 0.0, 0.0, 0.0, 0.0, 0.0, 0.0, 0.0, 0.0, 0.0, 0.0, 0.0, 0.0, 0.0, 0.0, 0.0, 0.0, 0.0, 0.0, 0.0, 0.0, 0.0, 0.0, 0.0, 0.0, 0.0, 1.0, 0.0, 0.0, 0.0, 0.0, 0.0, 0.0, 0.0, 0.0] \n",
            " tounctaster\n",
            "[0.0, 0.0, 1.0, 0.0, 0.0, 0.0, 0.0, 0.0, 0.0, 0.0, 0.0, 0.0, 0.0, 0.0, 0.0, 0.0, 0.0, 0.0, 0.0, 0.0, 0.0, 0.0, 0.0, 0.0, 0.0, 0.0, 0.0, 0.0, 0.0, 0.0, 0.0, 0.0, 0.0, 0.0, 0.0, 0.0, 0.0, 1.0, 0.0, 0.0, 0.0, 0.0, 0.0, 0.0, 0.0, 0.0, 0.0, 0.0, 0.0, 0.0, 0.0, 0.0, 0.0, 0.0, 0.0, 0.0, 1.0, 0.0, 0.0, 0.0, 0.0, 0.0, 0.0, 0.0, 0.0, 0.0, 0.0, 0.0, 0.0, 0.0, 0.0, 0.0, 0.0, 0.0, 0.0, 0.0, 0.0, 0.0, 1.0, 0.0, 0.0, 0.0, 0.0, 0.0, 0.0, 0.0, 0.0, 0.0, 0.0, 0.0, 0.0, 0.0, 0.0, 0.0, 0.0, 0.0, 0.0, 0.0, 0.0, 0.0, 0.0, 0.0, 0.0, 0.0, 0.0, 0.0, 0.0, 0.0, 0.0, 0.0, 0.0, 0.0, 0.0, 0.0, 0.0, 0.0, 0.0, 0.0, 0.0, 0.0, 0.0, 1.0, 0.0, 0.0, 0.0, 0.0, 0.0, 0.0, 0.0, 0.0, 0.0, 0.0, 0.0, 0.0, 1.0, 0.0, 0.0, 0.0, 0.0, 0.0, 0.0, 0.0, 0.0, 0.0, 0.0, 0.0, 0.0, 0.0, 0.0, 0.0, 0.0, 0.0, 0.0, 0.0, 0.0, 0.0, 0.0, 0.0, 0.0, 0.0, 0.0, 0.0, 0.0, 0.0, 0.0, 0.0, 0.0, 0.0, 0.0, 0.0, 0.0, 0.0, 0.0, 1.0, 0.0, 0.0, 0.0, 0.0, 0.0, 0.0, 0.0, 0.0] \n",
            " clearer\n"
          ],
          "name": "stdout"
        }
      ]
    },
    {
      "cell_type": "markdown",
      "metadata": {
        "id": "O30vuD1gX3K0"
      },
      "source": [
        "We can now define the Dataset class in the standard way."
      ]
    },
    {
      "cell_type": "code",
      "metadata": {
        "id": "XCBz0c0rKkhm"
      },
      "source": [
        "class WordsDataset(Dataset):\r\n",
        "\r\n",
        "    def __init__(self):\r\n",
        "        self.samples = []\r\n",
        "\r\n",
        "    def __len__(self):\r\n",
        "        return len(self.samples)\r\n",
        "\r\n",
        "    def __getitem__(self, idx):\r\n",
        "        input = self.samples[idx][0]\r\n",
        "        label = self.samples[idx][1]\r\n",
        "        sample = [input, label]\r\n",
        "        return sample\r\n",
        "    \r\n",
        "    def __addsample__(self, spelling, lexicality, max_length=22):\r\n",
        "        if (type(spelling) == type(\"str\")):\r\n",
        "            input = word_to_vec(spelling, max_length=max_length)\r\n",
        "            label = label_maker(lexicality)\r\n",
        "            self.samples.append([input, label])\r\n",
        "        else:\r\n",
        "            print(\"Something Strange:\", end='\\t')\r\n",
        "            print(spelling)\r\n",
        "\r\n",
        "    def __removesample__(self, idx=0, value=None):\r\n",
        "        '''\r\n",
        "        If value is something, the element corresponding to that value is removed.\r\n",
        "        Else the element at index idx is popped.\r\n",
        "        '''\r\n",
        "        if (value is not None):\r\n",
        "            self.samples.remove(value)\r\n",
        "        else:\r\n",
        "            self.samples.pop(0)\r\n",
        "        "
      ],
      "execution_count": 22,
      "outputs": []
    },
    {
      "cell_type": "code",
      "metadata": {
        "id": "Ni-lNHVPLea0"
      },
      "source": [
        "dataset = WordsDataset()"
      ],
      "execution_count": 23,
      "outputs": []
    },
    {
      "cell_type": "markdown",
      "metadata": {
        "id": "tKhzwqykX9on"
      },
      "source": [
        "The dataset is now empty, we can fill it with all our words."
      ]
    },
    {
      "cell_type": "code",
      "metadata": {
        "colab": {
          "base_uri": "https://localhost:8080/"
        },
        "id": "kaxCiCzMViZY",
        "outputId": "26ffed01-aa05-4549-f9eb-bb5eb4ff04ad"
      },
      "source": [
        "for w in real_words:\r\n",
        "    dataset.__addsample__(w, 'W')\r\n",
        "\r\n",
        "for w in non_words_selected:\r\n",
        "    dataset.__addsample__(w, 'N')"
      ],
      "execution_count": 24,
      "outputs": [
        {
          "output_type": "stream",
          "text": [
            "Something Strange:\tnan\n"
          ],
          "name": "stdout"
        }
      ]
    },
    {
      "cell_type": "markdown",
      "metadata": {
        "id": "7j7ez7VEYC7g"
      },
      "source": [
        "Checking if all went right."
      ]
    },
    {
      "cell_type": "code",
      "metadata": {
        "colab": {
          "base_uri": "https://localhost:8080/"
        },
        "id": "YgYhoFAgXWgm",
        "outputId": "9366a5ee-d3ac-4159-88b6-28221d156b97"
      },
      "source": [
        "print(len(real_words))\r\n",
        "print(len(non_words_selected))\r\n",
        "print(dataset.__len__())"
      ],
      "execution_count": 25,
      "outputs": [
        {
          "output_type": "stream",
          "text": [
            "61854\n",
            "61854\n",
            "123707\n"
          ],
          "name": "stdout"
        }
      ]
    },
    {
      "cell_type": "markdown",
      "metadata": {
        "id": "ocUX8cikYIj7"
      },
      "source": [
        "## Creating and Saving the training and test set\r\n",
        "We will divide the dataset into training and testing.<br>\r\n",
        "We use 80% of the dataset as training and the remaining 20% as test."
      ]
    },
    {
      "cell_type": "code",
      "metadata": {
        "id": "vxWx25iIVrBC"
      },
      "source": [
        "trainset, testset = torch.utils.data.random_split(dataset, [100000, 23707])\r\n",
        "trainloader = torch.utils.data.DataLoader(trainset, batch_size=32)\r\n",
        "testloader = torch.utils.data.DataLoader(testset, batch_size=32)"
      ],
      "execution_count": 27,
      "outputs": []
    },
    {
      "cell_type": "code",
      "metadata": {
        "id": "EzcFkNS_WguG"
      },
      "source": [
        "torch.save(trainloader, PATH+\"trainloader.pth\")\r\n",
        "torch.save(testloader, PATH+\"testloader.pth\")"
      ],
      "execution_count": 28,
      "outputs": []
    },
    {
      "cell_type": "code",
      "metadata": {
        "id": "zqCyRkVf0hwy"
      },
      "source": [
        ""
      ],
      "execution_count": null,
      "outputs": []
    }
  ]
}