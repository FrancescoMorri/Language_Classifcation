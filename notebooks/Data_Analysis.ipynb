{
  "nbformat": 4,
  "nbformat_minor": 0,
  "metadata": {
    "colab": {
      "name": "Data_Analysis.ipynb",
      "provenance": [],
      "collapsed_sections": [],
      "mount_file_id": "1YO00PUHkHNYct4I_12IODQ1fcJz1vX4E",
      "authorship_tag": "ABX9TyNpfkYtdO5c+uj+pFNjZiyz",
      "include_colab_link": true
    },
    "kernelspec": {
      "name": "python3",
      "display_name": "Python 3"
    }
  },
  "cells": [
    {
      "cell_type": "markdown",
      "metadata": {
        "id": "view-in-github",
        "colab_type": "text"
      },
      "source": [
        "<a href=\"https://colab.research.google.com/github/FrancescoMorri/Language_Classification/blob/main/notebooks/Data_Analysis.ipynb\" target=\"_parent\"><img src=\"https://colab.research.google.com/assets/colab-badge.svg\" alt=\"Open In Colab\"/></a>"
      ]
    },
    {
      "cell_type": "code",
      "metadata": {
        "id": "CScXF9k87fYH"
      },
      "source": [
        "import seaborn as sns\r\n",
        "import matplotlib.pyplot as plt\r\n",
        "import pandas as pd\r\n",
        "import torch\r\n",
        "import numpy as np\r\n",
        "\r\n",
        "sns.set()\r\n",
        "\r\n",
        "PATH = \"/content/drive/MyDrive/language/\""
      ],
      "execution_count": 1,
      "outputs": []
    },
    {
      "cell_type": "code",
      "metadata": {
        "id": "WxN3nWEP-THV"
      },
      "source": [
        "words = pd.read_csv(PATH+\"words_all_unique.csv\", usecols=['spelling', 'lexicality'])"
      ],
      "execution_count": null,
      "outputs": []
    },
    {
      "cell_type": "markdown",
      "metadata": {
        "id": "uLqxUCnZs1pH"
      },
      "source": [
        "# Graphs of Loss and Accuracy"
      ]
    },
    {
      "cell_type": "code",
      "metadata": {
        "id": "SHa9_IzYvA9b",
        "colab": {
          "base_uri": "https://localhost:8080/",
          "height": 285
        },
        "outputId": "df6cbc31-b54d-4df3-e080-a175f881120f"
      },
      "source": [
        "data = np.loadtxt(PATH+\"graphs/feed_forward_12chars_MSE_2.csv\")\r\n",
        "plt.plot(data[:,0], data[:,2], label=\"TestSet Accuracy\")\r\n",
        "plt.plot(data[:,0], data[:,3], label=\"TrainSet Accuracy\")\r\n",
        "plt.legend()\r\n",
        "plt.xlabel(\"Epochs\")\r\n",
        "plt.ylabel(\"Accuracy\")\r\n",
        "#plt.yscale(\"log\")\r\n",
        "plt.savefig(PATH+\"graphs/MSE_12chars_best_2.png\", bbox_inches='tight')\r\n",
        "plt.show()"
      ],
      "execution_count": 46,
      "outputs": [
        {
          "output_type": "display_data",
          "data": {
            "image/png": "[encoded data removed]",
            "text/plain": [
              "<Figure size 432x288 with 1 Axes>"
            ]
          },
          "metadata": {
            "tags": [],
            "needs_background": "light"
          }
        }
      ]
    },
    {
      "cell_type": "markdown",
      "metadata": {
        "id": "mXvvsGfDs4yk"
      },
      "source": [
        "# Words analysis with model"
      ]
    },
    {
      "cell_type": "markdown",
      "metadata": {
        "id": "8Vl_LX9qtd_R"
      },
      "source": [
        "## Loading the model"
      ]
    },
    {
      "cell_type": "code",
      "metadata": {
        "id": "duPezU3Ls887"
      },
      "source": [
        "class Words_Net(nn.Module):\r\n",
        "    def __init__(self):\r\n",
        "        super().__init__()\r\n",
        "\r\n",
        "        self.linear1 = nn.Linear(312, 450)\r\n",
        "        self.batch1 = nn.BatchNorm1d(450) \r\n",
        "        self.drop1 = nn.Dropout()\r\n",
        "        self.linear2 = nn.Linear(450, 256)\r\n",
        "        self.batch2 = nn.BatchNorm1d(256)\r\n",
        "        self.drop2 = nn.Dropout()\r\n",
        "        self.linear3 = nn.Linear(256, 64)\r\n",
        "        #self.batch3 = nn.BatchNorm1d(64)\r\n",
        "        #self.drop3 = nn.Dropout()\r\n",
        "        self.linear4 = nn.Linear(64, 32)\r\n",
        "        #self.drop4 = nn.Dropout()\r\n",
        "        self.linear5 = nn.Linear(32, 1)\r\n",
        "\r\n",
        "        self.act = nn.ReLU()\r\n",
        "\r\n",
        "    def forward(self, x):\r\n",
        "        out = self.linear1(x)\r\n",
        "        out = self.drop1(out)\r\n",
        "        out = self.batch1(out)\r\n",
        "        out = self.act(out)\r\n",
        "\r\n",
        "        out = self.linear2(out)\r\n",
        "        out = self.drop2(out)\r\n",
        "        out = self.batch2(out)\r\n",
        "        out = self.act(out)\r\n",
        "\r\n",
        "        out = self.linear3(out)\r\n",
        "        #out = self.drop3(out)\r\n",
        "        #out = self.batch3(out)\r\n",
        "        out = self.act(out)\r\n",
        "\r\n",
        "        out = self.linear4(out)\r\n",
        "        #out = self.drop4(out)\r\n",
        "        out = self.act(out)\r\n",
        "\r\n",
        "        out = self.linear5(out)\r\n",
        "\r\n",
        "        return out\r\n"
      ],
      "execution_count": 34,
      "outputs": []
    },
    {
      "cell_type": "code",
      "metadata": {
        "id": "w0bODswttZhh",
        "colab": {
          "base_uri": "https://localhost:8080/"
        },
        "outputId": "2b72ec45-f3ef-4862-bb8e-496a3a2c9388"
      },
      "source": [
        "net = Words_Net()\r\n",
        "net.load_state_dict(torch.load(PATH+\"net/feed_forward_12chars_MSE_2\", map_location='cpu'))"
      ],
      "execution_count": 35,
      "outputs": [
        {
          "output_type": "execute_result",
          "data": {
            "text/plain": [
              "<All keys matched successfully>"
            ]
          },
          "metadata": {
            "tags": []
          },
          "execution_count": 35
        }
      ]
    },
    {
      "cell_type": "code",
      "metadata": {
        "colab": {
          "base_uri": "https://localhost:8080/"
        },
        "id": "1TMDicAXwYRv",
        "outputId": "fc8ab7a6-ea49-4e86-ede8-ef4666813d83"
      },
      "source": [
        "from torchsummary import summary\r\n",
        "summary(net, (312,))"
      ],
      "execution_count": 36,
      "outputs": [
        {
          "output_type": "stream",
          "text": [
            "----------------------------------------------------------------\n",
            "        Layer (type)               Output Shape         Param #\n",
            "================================================================\n",
            "            Linear-1                  [-1, 450]         140,850\n",
            "           Dropout-2                  [-1, 450]               0\n",
            "       BatchNorm1d-3                  [-1, 450]             900\n",
            "              ReLU-4                  [-1, 450]               0\n",
            "            Linear-5                  [-1, 256]         115,456\n",
            "           Dropout-6                  [-1, 256]               0\n",
            "       BatchNorm1d-7                  [-1, 256]             512\n",
            "              ReLU-8                  [-1, 256]               0\n",
            "            Linear-9                   [-1, 64]          16,448\n",
            "             ReLU-10                   [-1, 64]               0\n",
            "           Linear-11                   [-1, 32]           2,080\n",
            "             ReLU-12                   [-1, 32]               0\n",
            "           Linear-13                    [-1, 1]              33\n",
            "================================================================\n",
            "Total params: 276,279\n",
            "Trainable params: 276,279\n",
            "Non-trainable params: 0\n",
            "----------------------------------------------------------------\n",
            "Input size (MB): 0.00\n",
            "Forward/backward pass size (MB): 0.02\n",
            "Params size (MB): 1.05\n",
            "Estimated Total Size (MB): 1.08\n",
            "----------------------------------------------------------------\n"
          ],
          "name": "stdout"
        }
      ]
    },
    {
      "cell_type": "markdown",
      "metadata": {
        "id": "Yeefp3Eswsio"
      },
      "source": [
        "## Load Dataset Class"
      ]
    },
    {
      "cell_type": "code",
      "metadata": {
        "id": "O_fhLl43wlOB"
      },
      "source": [
        "from torch.utils.data import Dataset\r\n",
        "\r\n",
        "class WordsDataset(Dataset):\r\n",
        "\r\n",
        "    def __init__(self):\r\n",
        "        self.samples = []\r\n",
        "\r\n",
        "    def __len__(self):\r\n",
        "        return len(self.samples)\r\n",
        "\r\n",
        "    def __getitem__(self, idx):\r\n",
        "        if torch.is_tensor(idx):\r\n",
        "            idx = idx.to_list()\r\n",
        "        \r\n",
        "        input = self.samples[idx][0]\r\n",
        "        label = self.samples[idx][1]\r\n",
        "        return input, label\r\n",
        "    \r\n",
        "    def __addsample__(self, spelling, lexicality, max_length=4):\r\n",
        "        if (type(spelling) == type(\"str\")):\r\n",
        "            input = torch.tensor(word_to_vec(spelling, max_length=max_length), dtype=torch.float32)\r\n",
        "            #check = [False if (i > 1. or i < 0.) else True for i in input]\r\n",
        "            #if not all(check):\r\n",
        "            #    print(\"PROBLEM\")\r\n",
        "            #    print(len(input), spelling)\r\n",
        "            if (len(input) > max_length*26):\r\n",
        "                print(\"PROBLEM\")\r\n",
        "                print(len(input), spelling)\r\n",
        "            else:\r\n",
        "                # here if it is torch is for the MSELoss, if it is an INT is for the crossentropy\r\n",
        "                label = torch.tensor(label_maker(lexicality), dtype=torch.float32)\r\n",
        "                #label = label_maker(lexicality)\r\n",
        "                self.samples.append([input, label])\r\n",
        "        else:\r\n",
        "            print(\"Something Strange:\", end='\\t')\r\n",
        "            print(spelling)\r\n",
        "\r\n",
        "    def __removesample__(self, idx=0, value=None):\r\n",
        "        '''\r\n",
        "        If value is something, the element corresponding to that value is removed.\r\n",
        "        Else the element at index idx is popped.\r\n",
        "        '''\r\n",
        "        if (value is not None):\r\n",
        "            self.samples.remove(value)\r\n",
        "        else:\r\n",
        "            self.samples.pop(0)\r\n",
        "        "
      ],
      "execution_count": 9,
      "outputs": []
    },
    {
      "cell_type": "code",
      "metadata": {
        "id": "nYFKb68jwxRg"
      },
      "source": [
        "trainloader = torch.load(PATH+\"trainloader_12chars_MSE.pth\")\r\n",
        "testloader = torch.load(PATH+\"testloader_12chars_MSE.pth\")"
      ],
      "execution_count": 10,
      "outputs": []
    },
    {
      "cell_type": "code",
      "metadata": {
        "id": "c0sZD6CrztwG"
      },
      "source": [
        "def vec_to_word(vec):\r\n",
        "    word = \"\"\r\n",
        "    for i, a in enumerate(vec):\r\n",
        "        if ( a == 1):\r\n",
        "            idx = i%26\r\n",
        "            char = chr(idx + 97)\r\n",
        "            word += char\r\n",
        "    return word"
      ],
      "execution_count": 11,
      "outputs": []
    },
    {
      "cell_type": "code",
      "metadata": {
        "id": "Yj9Jit_o1nYg"
      },
      "source": [
        "data = []\r\n",
        "net.eval()\r\n",
        "with torch.no_grad():\r\n",
        "    for i, tests in enumerate(testloader, 0):\r\n",
        "        inputs, labels = tests\r\n",
        "        outputs = net(inputs).squeeze()\r\n",
        "        #print(outputs.shape, labels.shape, inputs.shape)\r\n",
        "        for i,a in enumerate(inputs):\r\n",
        "            out = outputs[i]\r\n",
        "            lab = labels[i]\r\n",
        "            word = vec_to_word(a)\r\n",
        "            data.append((word, out, lab))\r\n",
        "        \r\n",
        "\r\n",
        "        #squeeze for MSE\r\n",
        "        \r\n",
        "        #loss = criterion(outputs, labels)\r\n",
        "        #loss += loss.item()\r\n",
        "        #this for MSELoss\r\n",
        "        #predicted = torch.round(outputs)\r\n",
        "        #total += labels.size(0)\r\n",
        "        #correct += (predicted == labels).sum().item()"
      ],
      "execution_count": 50,
      "outputs": []
    },
    {
      "cell_type": "code",
      "metadata": {
        "colab": {
          "base_uri": "https://localhost:8080/"
        },
        "id": "wLQ2_FgJ15I9",
        "outputId": "1960a6ac-09e2-4290-8006-8b4efcdd420b"
      },
      "source": [
        "!pip install python-Levenshtein\r\n",
        "import Levenshtein as lev"
      ],
      "execution_count": 18,
      "outputs": [
        {
          "output_type": "stream",
          "text": [
            "Requirement already satisfied: python-Levenshtein in /usr/local/lib/python3.6/dist-packages (0.12.0)\n",
            "Requirement already satisfied: setuptools in /usr/local/lib/python3.6/dist-packages (from python-Levenshtein) (51.1.1)\n"
          ],
          "name": "stdout"
        }
      ]
    },
    {
      "cell_type": "code",
      "metadata": {
        "id": "-PqNwioL4kx0"
      },
      "source": [
        "real_w = []\r\n",
        "for a in data:\r\n",
        "    if (a[2] == 0):\r\n",
        "        real_w.append(a[0])"
      ],
      "execution_count": 56,
      "outputs": []
    },
    {
      "cell_type": "code",
      "metadata": {
        "id": "f3fZYAqL4zF3"
      },
      "source": [
        "full_data = []\r\n",
        "for a in data:\r\n",
        "    if (a[2] == 1):\r\n",
        "        dist_t = 0\r\n",
        "        for w in real_w:\r\n",
        "            dist_t += lev.distance(a[0], w)\r\n",
        "        dist_t /= len(real_w)\r\n",
        "\r\n",
        "        full_a = a + (dist_t,)\r\n",
        "        full_data.append(full_a)\r\n",
        "    else:\r\n",
        "        full_data.append(a)"
      ],
      "execution_count": 60,
      "outputs": []
    },
    {
      "cell_type": "code",
      "metadata": {
        "colab": {
          "base_uri": "https://localhost:8080/"
        },
        "id": "SwppsV6wE9ye",
        "outputId": "6662d57b-5170-4f18-9a9f-083756959d3b"
      },
      "source": [
        ""
      ],
      "execution_count": 62,
      "outputs": [
        {
          "output_type": "stream",
          "text": [
            "/usr/local/lib/python3.6/dist-packages/ipykernel_launcher.py:1: VisibleDeprecationWarning: Creating an ndarray from ragged nested sequences (which is a list-or-tuple of lists-or-tuples-or ndarrays with different lengths or shapes) is deprecated. If you meant to do this, you must specify 'dtype=object' when creating the ndarray\n",
            "  \"\"\"Entry point for launching an IPython kernel.\n"
          ],
          "name": "stderr"
        }
      ]
    },
    {
      "cell_type": "code",
      "metadata": {
        "id": "EvVww19jFFI2"
      },
      "source": [
        ""
      ],
      "execution_count": null,
      "outputs": []
    }
  ]
}