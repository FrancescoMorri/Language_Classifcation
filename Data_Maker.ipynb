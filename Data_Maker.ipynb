{
  "nbformat": 4,
  "nbformat_minor": 0,
  "metadata": {
    "colab": {
      "name": "Data_Maker.ipynb",
      "provenance": [],
      "collapsed_sections": [],
      "mount_file_id": "1SZ7RHMet6RZMLgdlHd0IeuLFImThMIMN",
      "authorship_tag": "ABX9TyMhiJHqffpcqEf874Lorfbj",
      "include_colab_link": true
    },
    "kernelspec": {
      "name": "python3",
      "display_name": "Python 3"
    }
  },
  "cells": [
    {
      "cell_type": "markdown",
      "metadata": {
        "id": "view-in-github",
        "colab_type": "text"
      },
      "source": [
        "<a href=\"https://colab.research.google.com/github/FrancescoMorri/Language_Classifcation/blob/main/Data_Maker.ipynb\" target=\"_parent\"><img src=\"https://colab.research.google.com/assets/colab-badge.svg\" alt=\"Open In Colab\"/></a>"
      ]
    },
    {
      "cell_type": "code",
      "metadata": {
        "id": "jd9hOOwJmr6g"
      },
      "source": [
        "import pandas as pd\r\n",
        "import time\r\n",
        "import seaborn as sns"
      ],
      "execution_count": null,
      "outputs": []
    },
    {
      "cell_type": "code",
      "metadata": {
        "colab": {
          "base_uri": "https://localhost:8080/"
        },
        "id": "JKX4vmk_narB",
        "outputId": "c066f2d6-503a-4781-f5dd-86db2d21144b"
      },
      "source": [
        "chunksize=200000\r\n",
        "words = pd.DataFrame(columns=['spelling', 'lexicality'])\r\n",
        "start = time.time()\r\n",
        "for chunk in pd.read_csv(\"/content/drive/MyDrive/language/lexical-decision.csv\", sep=\"\\t\", usecols=['spelling', 'lexicality'], chunksize=chunksize):\r\n",
        "    chunk = chunk.drop_duplicates()\r\n",
        "    words = pd.concat([words, chunk], ignore_index=True)\r\n",
        "    words = words.drop_duplicates()\r\n",
        "end = time.time()\r\n",
        "print(\"Total Time:%.d\"%(end-start))"
      ],
      "execution_count": null,
      "outputs": [
        {
          "output_type": "stream",
          "text": [
            "Total Time:249\n"
          ],
          "name": "stdout"
        }
      ]
    },
    {
      "cell_type": "code",
      "metadata": {
        "id": "uonUJ76znf8Y"
      },
      "source": [
        "words.to_csv(\"/content/drive/MyDrive/language/words.csv\")"
      ],
      "execution_count": null,
      "outputs": []
    },
    {
      "cell_type": "code",
      "metadata": {
        "colab": {
          "base_uri": "https://localhost:8080/"
        },
        "id": "kXfybmIbn2Zl",
        "outputId": "bcc3ef7d-abc7-48f0-8ea5-9936601199e0"
      },
      "source": [
        "words = pd.read_csv(\"/content/drive/MyDrive/language/words.csv\")\r\n",
        "words['spelling']"
      ],
      "execution_count": null,
      "outputs": [
        {
          "output_type": "execute_result",
          "data": {
            "text/plain": [
              "0                   clearer\n",
              "1                  cultrate\n",
              "2                     hokum\n",
              "3                      dare\n",
              "4               playability\n",
              "                ...        \n",
              "391705             oxipenia\n",
              "391706                swaif\n",
              "391707                feunt\n",
              "391708    atracorticotropic\n",
              "391709             wroughth\n",
              "Name: spelling, Length: 391710, dtype: object"
            ]
          },
          "metadata": {
            "tags": []
          },
          "execution_count": 32
        }
      ]
    },
    {
      "cell_type": "code",
      "metadata": {
        "colab": {
          "base_uri": "https://localhost:8080/"
        },
        "id": "oJvtAmR6y5ql",
        "outputId": "907af991-e8da-4221-bda6-fbfde8fa0e63"
      },
      "source": [
        "words['spelling'].value_counts()"
      ],
      "execution_count": null,
      "outputs": [
        {
          "output_type": "execute_result",
          "data": {
            "text/plain": [
              "scrump         2\n",
              "podge          2\n",
              "kine           2\n",
              "bodge          2\n",
              "stull          2\n",
              "              ..\n",
              "fangspead      1\n",
              "kidhop         1\n",
              "streaklinds    1\n",
              "uctall         1\n",
              "tsalrogy       1\n",
              "Name: spelling, Length: 391702, dtype: int64"
            ]
          },
          "metadata": {
            "tags": []
          },
          "execution_count": 33
        }
      ]
    },
    {
      "cell_type": "code",
      "metadata": {
        "id": "7qqcPL2dp4kF"
      },
      "source": [
        "words = words.drop_duplicates(subset=['spelling'])"
      ],
      "execution_count": null,
      "outputs": []
    },
    {
      "cell_type": "code",
      "metadata": {
        "colab": {
          "base_uri": "https://localhost:8080/"
        },
        "id": "A7prOfT1weLE",
        "outputId": "1f5ebf86-61a5-4e13-fe19-12a0f5952505"
      },
      "source": [
        "words['spelling'].value_counts()"
      ],
      "execution_count": null,
      "outputs": [
        {
          "output_type": "execute_result",
          "data": {
            "text/plain": [
              "ateninuria      1\n",
              "clung           1\n",
              "watchporness    1\n",
              "didweation      1\n",
              "manvaousness    1\n",
              "               ..\n",
              "kidhop          1\n",
              "streaklinds     1\n",
              "uctall          1\n",
              "ebbelgence      1\n",
              "tsalrogy        1\n",
              "Name: spelling, Length: 391702, dtype: int64"
            ]
          },
          "metadata": {
            "tags": []
          },
          "execution_count": 35
        }
      ]
    },
    {
      "cell_type": "code",
      "metadata": {
        "id": "OLVQdmnRxTcI"
      },
      "source": [
        "words.to_csv(\"/content/drive/MyDrive/language/words_all_unique.csv\")"
      ],
      "execution_count": null,
      "outputs": []
    },
    {
      "cell_type": "code",
      "metadata": {
        "colab": {
          "base_uri": "https://localhost:8080/"
        },
        "id": "G0NFdhprxsCs",
        "outputId": "e96fed9d-5efa-45f4-a498-3a785da4ed74"
      },
      "source": [
        "words['lexicality'].value_counts()"
      ],
      "execution_count": null,
      "outputs": [
        {
          "output_type": "execute_result",
          "data": {
            "text/plain": [
              "N    329845\n",
              "W     61854\n",
              "I         4\n",
              "Name: lexicality, dtype: int64"
            ]
          },
          "metadata": {
            "tags": []
          },
          "execution_count": 37
        }
      ]
    },
    {
      "cell_type": "code",
      "metadata": {
        "id": "ObFowQcpzGnt"
      },
      "source": [
        "a = words['lexicality'].value_counts()"
      ],
      "execution_count": null,
      "outputs": []
    },
    {
      "cell_type": "code",
      "metadata": {
        "colab": {
          "base_uri": "https://localhost:8080/",
          "height": 282
        },
        "id": "2WcPXbF1zY-l",
        "outputId": "8965f49d-4921-4274-f3b2-b6bce6c88738"
      },
      "source": [
        "sns.barplot(data=a)"
      ],
      "execution_count": null,
      "outputs": [
        {
          "output_type": "execute_result",
          "data": {
            "text/plain": [
              "<matplotlib.axes._subplots.AxesSubplot at 0x7f001bb53c88>"
            ]
          },
          "metadata": {
            "tags": []
          },
          "execution_count": 48
        },
        {
          "output_type": "display_data",
          "data": {
            "image/png": "[encoded data removed]",
            "text/plain": [
              "<Figure size 432x288 with 1 Axes>"
            ]
          },
          "metadata": {
            "tags": [],
            "needs_background": "light"
          }
        }
      ]
    },
    {
      "cell_type": "code",
      "metadata": {
        "id": "sHJ8mm9Q0YaU"
      },
      "source": [
        ""
      ],
      "execution_count": null,
      "outputs": []
    }
  ]
}