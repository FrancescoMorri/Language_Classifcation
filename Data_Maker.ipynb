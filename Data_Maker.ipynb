{
  "nbformat": 4,
  "nbformat_minor": 0,
  "metadata": {
    "colab": {
      "name": "Data_Maker.ipynb",
      "provenance": [],
      "collapsed_sections": [
        "4i5bqIVbF0iX"
      ],
      "mount_file_id": "1SZ7RHMet6RZMLgdlHd0IeuLFImThMIMN",
      "authorship_tag": "ABX9TyPSQgmMaQk9+aruHGqXhcL6",
      "include_colab_link": true
    },
    "kernelspec": {
      "name": "python3",
      "display_name": "Python 3"
    }
  },
  "cells": [
    {
      "cell_type": "markdown",
      "metadata": {
        "id": "view-in-github",
        "colab_type": "text"
      },
      "source": [
        "<a href=\"https://colab.research.google.com/github/FrancescoMorri/Language_Classifcation/blob/main/Data_Maker.ipynb\" target=\"_parent\"><img src=\"https://colab.research.google.com/assets/colab-badge.svg\" alt=\"Open In Colab\"/></a>"
      ]
    },
    {
      "cell_type": "code",
      "metadata": {
        "id": "jd9hOOwJmr6g"
      },
      "source": [
        "import pandas as pd\r\n",
        "import time\r\n",
        "PATH = \"/content/drive/MyDrive/language/\""
      ],
      "execution_count": 1,
      "outputs": []
    },
    {
      "cell_type": "markdown",
      "metadata": {
        "id": "4i5bqIVbF0iX"
      },
      "source": [
        "# Loading Data\r\n",
        "This is run only the first time to create smaller files to work with, since the main file is 4 Gb"
      ]
    },
    {
      "cell_type": "code",
      "metadata": {
        "colab": {
          "base_uri": "https://localhost:8080/"
        },
        "id": "JKX4vmk_narB",
        "outputId": "c066f2d6-503a-4781-f5dd-86db2d21144b"
      },
      "source": [
        "#chunksize=200000\r\n",
        "#words = pd.DataFrame(columns=['spelling', 'lexicality'])\r\n",
        "#start = time.time()\r\n",
        "#for chunk in pd.read_csv(\"/content/drive/MyDrive/language/lexical-decision.csv\", sep=\"\\t\", usecols=['spelling', 'lexicality'], chunksize=chunksize):\r\n",
        "#    chunk = chunk.drop_duplicates()\r\n",
        "#    words = pd.concat([words, chunk], ignore_index=True)\r\n",
        "#    words = words.drop_duplicates()\r\n",
        "#end = time.time()\r\n",
        "#print(\"Total Time:%.d\"%(end-start))"
      ],
      "execution_count": null,
      "outputs": [
        {
          "output_type": "stream",
          "text": [
            "Total Time:249\n"
          ],
          "name": "stdout"
        }
      ]
    },
    {
      "cell_type": "code",
      "metadata": {
        "id": "uonUJ76znf8Y"
      },
      "source": [
        "#words.to_csv(\"/content/drive/MyDrive/language/words.csv\")"
      ],
      "execution_count": null,
      "outputs": []
    },
    {
      "cell_type": "markdown",
      "metadata": {
        "id": "SMZRoptoGFIm"
      },
      "source": [
        "# Making the DataSet\r\n",
        "We can now create and save the dataset, using PyTorch DataLoader class"
      ]
    },
    {
      "cell_type": "code",
      "metadata": {
        "colab": {
          "base_uri": "https://localhost:8080/"
        },
        "id": "kXfybmIbn2Zl",
        "outputId": "da1d3bbf-8e28-4705-bc7c-889d9291c362"
      },
      "source": [
        "words = pd.read_csv(PATH+\"words_all_unique.csv\")\r\n",
        "words['spelling'].value_counts()"
      ],
      "execution_count": 2,
      "outputs": [
        {
          "output_type": "execute_result",
          "data": {
            "text/plain": [
              "polynucleotide       1\n",
              "haipsel              1\n",
              "snushed              1\n",
              "recormively          1\n",
              "kelf                 1\n",
              "                    ..\n",
              "alliteratively       1\n",
              "sypomitization       1\n",
              "inzuning             1\n",
              "loyalty              1\n",
              "autetueristizally    1\n",
              "Name: spelling, Length: 391702, dtype: int64"
            ]
          },
          "metadata": {
            "tags": []
          },
          "execution_count": 2
        }
      ]
    },
    {
      "cell_type": "code",
      "metadata": {
        "colab": {
          "base_uri": "https://localhost:8080/"
        },
        "id": "oJvtAmR6y5ql",
        "outputId": "6d7adb73-dc14-43a9-ad40-875f6e65d200"
      },
      "source": [
        "words['lexicality'].value_counts()"
      ],
      "execution_count": 3,
      "outputs": [
        {
          "output_type": "execute_result",
          "data": {
            "text/plain": [
              "N    329845\n",
              "W     61854\n",
              "I         4\n",
              "Name: lexicality, dtype: int64"
            ]
          },
          "metadata": {
            "tags": []
          },
          "execution_count": 3
        }
      ]
    },
    {
      "cell_type": "markdown",
      "metadata": {
        "id": "1dvVZERcHWN5"
      },
      "source": [
        "## Basic Data Anlaysis"
      ]
    },
    {
      "cell_type": "code",
      "metadata": {
        "id": "sHJ8mm9Q0YaU"
      },
      "source": [
        "import seaborn as sns\r\n"
      ],
      "execution_count": null,
      "outputs": []
    }
  ]
}